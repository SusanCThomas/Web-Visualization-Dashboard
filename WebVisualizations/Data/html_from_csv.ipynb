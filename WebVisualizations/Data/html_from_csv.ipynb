{
 "cells": [
  {
   "cell_type": "markdown",
   "id": "unexpected-france",
   "metadata": {},
   "source": [
    "# Data Conversion\n",
    "*****************************************************************************************************************"
   ]
  },
  {
   "cell_type": "markdown",
   "id": "bound-auditor",
   "metadata": {},
   "source": [
    "## Generate a HTML file from the CSV data file"
   ]
  },
  {
   "cell_type": "markdown",
   "id": "engaged-block",
   "metadata": {},
   "source": [
    "### Import Dependencies"
   ]
  },
  {
   "cell_type": "code",
   "execution_count": 1,
   "id": "robust-slave",
   "metadata": {},
   "outputs": [],
   "source": [
    "import pandas as pd\n",
    "import os"
   ]
  },
  {
   "cell_type": "markdown",
   "id": "overall-crack",
   "metadata": {},
   "source": [
    "### Retrieve Data from CSV file"
   ]
  },
  {
   "cell_type": "code",
   "execution_count": 2,
   "id": "average-admission",
   "metadata": {},
   "outputs": [],
   "source": [
    "# Reading in dataset from csv to store into a pandas df\n",
    "cities_data= pd.read_csv(\"../Resources/cities.csv\")"
   ]
  },
  {
   "cell_type": "code",
   "execution_count": null,
   "id": "personal-listing",
   "metadata": {},
   "outputs": [],
   "source": []
  }
 ],
 "metadata": {
  "kernelspec": {
   "display_name": "PythonData",
   "language": "python",
   "name": "pythondata"
  },
  "language_info": {
   "codemirror_mode": {
    "name": "ipython",
    "version": 3
   },
   "file_extension": ".py",
   "mimetype": "text/x-python",
   "name": "python",
   "nbconvert_exporter": "python",
   "pygments_lexer": "ipython3",
   "version": "3.6.12"
  }
 },
 "nbformat": 4,
 "nbformat_minor": 5
}
