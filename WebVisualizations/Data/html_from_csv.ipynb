{
 "cells": [
  {
   "cell_type": "markdown",
   "id": "cathedral-messenger",
   "metadata": {},
   "source": [
    "# Data Conversion\n",
    "*****************************************************************************************************************"
   ]
  },
  {
   "cell_type": "markdown",
   "id": "southwest-freight",
   "metadata": {},
   "source": [
    "## Generate a HTML file from the CSV data file"
   ]
  },
  {
   "cell_type": "markdown",
   "id": "static-bacon",
   "metadata": {},
   "source": [
    "### Import Dependencies"
   ]
  },
  {
   "cell_type": "code",
   "execution_count": 1,
   "id": "american-shooting",
   "metadata": {},
   "outputs": [],
   "source": [
    "import pandas as pd\n",
    "import os"
   ]
  },
  {
   "cell_type": "markdown",
   "id": "manufactured-citizenship",
   "metadata": {},
   "source": [
    "### Retrieve Data from CSV file"
   ]
  },
  {
   "cell_type": "code",
   "execution_count": 4,
   "id": "recreational-vampire",
   "metadata": {},
   "outputs": [],
   "source": [
    "# Reading in dataset from csv to store into a pandas df\n",
    "data = pd.read_csv(\"../Resources/cities.csv\")"
   ]
  },
  {
   "cell_type": "code",
   "execution_count": null,
   "id": "inside-button",
   "metadata": {},
   "outputs": [],
   "source": [
    "# Pandas dataframe for cities data:\n",
    "cities_df = pd.DataFrame(cities_data)\n",
    "cities_df.set_index(\"City_ID\")\n",
    "cities_df.head()"
   ]
  }
 ],
 "metadata": {
  "kernelspec": {
   "display_name": "PythonData",
   "language": "python",
   "name": "pythondata"
  },
  "language_info": {
   "codemirror_mode": {
    "name": "ipython",
    "version": 3
   },
   "file_extension": ".py",
   "mimetype": "text/x-python",
   "name": "python",
   "nbconvert_exporter": "python",
   "pygments_lexer": "ipython3",
   "version": "3.6.12"
  }
 },
 "nbformat": 4,
 "nbformat_minor": 5
}
