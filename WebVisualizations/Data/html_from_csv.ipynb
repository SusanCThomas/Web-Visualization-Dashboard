{
 "cells": [
  {
   "cell_type": "markdown",
   "id": "rising-mistress",
   "metadata": {},
   "source": [
    "# Data Conversion\n",
    "*****************************************************************************************************************"
   ]
  },
  {
   "cell_type": "markdown",
   "id": "prime-illustration",
   "metadata": {},
   "source": [
    "## Generate a HTML file from the CSV data file"
   ]
  },
  {
   "cell_type": "markdown",
   "id": "international-joining",
   "metadata": {},
   "source": [
    "### Import Dependencies"
   ]
  },
  {
   "cell_type": "code",
   "execution_count": 1,
   "id": "narrative-dealing",
   "metadata": {},
   "outputs": [],
   "source": [
    "import pandas as pd\n",
    "import os"
   ]
  },
  {
   "cell_type": "code",
   "execution_count": null,
   "id": "anticipated-conversion",
   "metadata": {},
   "outputs": [],
   "source": []
  }
 ],
 "metadata": {
  "kernelspec": {
   "display_name": "PythonData",
   "language": "python",
   "name": "pythondata"
  },
  "language_info": {
   "codemirror_mode": {
    "name": "ipython",
    "version": 3
   },
   "file_extension": ".py",
   "mimetype": "text/x-python",
   "name": "python",
   "nbconvert_exporter": "python",
   "pygments_lexer": "ipython3",
   "version": "3.6.12"
  }
 },
 "nbformat": 4,
 "nbformat_minor": 5
}
